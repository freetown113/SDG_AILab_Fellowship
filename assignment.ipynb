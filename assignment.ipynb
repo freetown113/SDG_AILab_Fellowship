{
 "cells": [
  {
   "cell_type": "code",
   "execution_count": 3,
   "metadata": {},
   "outputs": [],
   "source": [
    "import pandas as pd\n",
    "import re"
   ]
  },
  {
   "cell_type": "code",
   "execution_count": 5,
   "metadata": {},
   "outputs": [
    {
     "name": "stdout",
     "output_type": "stream",
     "text": [
      "Shape: (37575, 7)\n",
      "                          doi                           text_id  \\\n",
      "0  10.6027/9789289342698-7-en  00021941702cd84171ff33962197ca1f   \n",
      "1        10.18356/eca72908-en  00028349a7f9b2485ff344ae44ccfd6b   \n",
      "2  10.1787/9789264289062-4-en  0004eb64f96e1620cd852603d9cbe4d4   \n",
      "3     10.1787/5k9b7bn5qzvd-en  0006a887475ccfa5a7f5f51d4ac83d02   \n",
      "4  10.1787/9789264258211-6-en  0006d6e7593776abbdf4a6f985ea6d95   \n",
      "\n",
      "                                                text sdg labels_negative  \\\n",
      "0  \"From a gender perspective, Paulgaard points o...   5               1   \n",
      "1  Labour legislation regulates maximum working h...  11               2   \n",
      "2  The average figure also masks large difference...   3               1   \n",
      "3  The extent to which they are akin to corruptio...   3               1   \n",
      "4  A region reporting a higher rate will not earn...   3               2   \n",
      "\n",
      "  labels_positive           agreement  \n",
      "0               8  0.7777777777777778  \n",
      "1               1  0.3333333333333333  \n",
      "2               8  0.7777777777777778  \n",
      "3               2  0.3333333333333333  \n",
      "4               2                 0.0  \n",
      "                                             doi  \\\n",
      "10                     10.1017/S0008423907070424   \n",
      "16                   10.1016/J.PROCS.2017.11.303   \n",
      "25                      10.1176/APPI.PS.52.4.477   \n",
      "28     10.1093/ACPROF:OSO/9780199644315.001.0001   \n",
      "32                             10.25123/VEJ.1421   \n",
      "...                                          ...   \n",
      "37523                          10.1111/CFS.12125   \n",
      "37527              10.1080/21548455.2016.1157644   \n",
      "37549                  10.1017/S1368980007246622   \n",
      "37567                 10.1177/1037969X1103600105   \n",
      "37571                  10.1017/S0020589318000167   \n",
      "\n",
      "                                text_id  \\\n",
      "10     00162fc8346ca9cd525d8f87ac2b5352   \n",
      "16     00283156eb3e8de39758e3c5371a1340   \n",
      "25     0030671438d7acdbf2e63bab71ca4a2b   \n",
      "28     0032a7084ab889678001ab691549ad21   \n",
      "32     0035ee6937246822abd7a7dabe936e17   \n",
      "...                                 ...   \n",
      "37523  ffa9506ac24ab1d69d12cb3da5ebe750   \n",
      "37527  ffb6487ea13b3c31dd81e11539ac7740   \n",
      "37549  ffd83f7115c3571c0568b91f80280827   \n",
      "37567  fff761c81b12da6021373a04551f255a   \n",
      "37571  fffdf2bc9ac129ed95ef7727584aa74b   \n",
      "\n",
      "                                                    text sdg labels_negative  \\\n",
      "10     The “War on Terror” and the Framework of Inter...  16               0   \n",
      "16     Abstract   This paper demonstrates how differe...  16               1   \n",
      "25     Mental health courts are emerging in communiti...  16               2   \n",
      "28     1. Introduction: The Structures of the Crimina...  16               0   \n",
      "32     Abstract      The   negative effect of the dec...  16               1   \n",
      "...                                                  ...  ..             ...   \n",
      "37523  In a climate of austerity, timescales and targ...  16               0   \n",
      "37527  ABSTRACTThis study investigated deference to s...  16               2   \n",
      "37549  We offer a critique of Canada's approach to do...  16               1   \n",
      "37567  Unlike the right to food and housing, the righ...  16               1   \n",
      "37571  This article notes the judgment in Sophocleous...  16               2   \n",
      "\n",
      "      labels_positive           agreement  \n",
      "10                  3                 1.0  \n",
      "16                  2  0.3333333333333333  \n",
      "25                  2                 0.0  \n",
      "28                  3                 1.0  \n",
      "32                  3                 0.5  \n",
      "...               ...                 ...  \n",
      "37523               3                 1.0  \n",
      "37527               1  0.3333333333333333  \n",
      "37549               2  0.3333333333333333  \n",
      "37567               3                 0.5  \n",
      "37571               1  0.3333333333333333  \n",
      "\n",
      "[5105 rows x 7 columns]\n",
      "[' From a gender perspective Paulgaard points out that the labour markets of the fishing villages have been highly gender segregated in terms of the existence of male jobs and female jobs however the new business opportunities have led to the male population of the peripheral areas now working in the service industry in former female jobs That boys and girls are doing the same jobs indicates change because traditional boundaries between women and men s work are being crossed But the fact that young people are still working represents continuity with the past Paulgaard 2002 102 When Paulgaard refers to continuity with traditions she refers to the expectations of young adults to participate in adult culture thus these fishing villages traditionally have no actual youth culture As described earlier Paulgaard 2015 concludes that in some of Norway s peripheral areas school is still foreign a time waster stealing time from young adults who should instead spend their time on what is considered to be real work ']\n"
     ]
    }
   ],
   "source": [
    "df_osdg = pd.read_csv('C:/Users/Anjou/Downloads/osdg-community-data-v2022-10-01.csv', sep='\\t')\n",
    "df_osdg[df_osdg.columns[0].split('\\t')] = df_osdg.iloc[:,0].str.split('\\t', expand=True)\n",
    "df_osdg.drop(df_osdg.columns[0], axis=1, inplace=True)\n",
    "\n",
    "print('Shape:', df_osdg.shape)\n",
    "print(df_osdg.head())\n",
    "print(df_osdg[df_osdg['sdg']=='16'])\n",
    "\n",
    "data = df_osdg.text.values.tolist()\n",
    "data = [re.sub('[^A-Za-z0-9]+', ' ', sent) for sent in data]\n",
    "print(data[:1])"
   ]
  }
 ],
 "metadata": {
  "interpreter": {
   "hash": "b469cb7e38c7c0aa55d596c9b24d2eac317e06783a4c48e9b6c22843f2315771"
  },
  "kernelspec": {
   "display_name": "Python 3.10.8 64-bit (windows store)",
   "language": "python",
   "name": "python3"
  },
  "language_info": {
   "codemirror_mode": {
    "name": "ipython",
    "version": 3
   },
   "file_extension": ".py",
   "mimetype": "text/x-python",
   "name": "python",
   "nbconvert_exporter": "python",
   "pygments_lexer": "ipython3",
   "version": "3.10.8"
  },
  "orig_nbformat": 4
 },
 "nbformat": 4,
 "nbformat_minor": 2
}
